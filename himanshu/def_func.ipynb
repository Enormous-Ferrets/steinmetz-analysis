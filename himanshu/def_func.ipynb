{
 "cells": [
  {
   "cell_type": "code",
   "execution_count": 1,
   "id": "8ab6df48-ced1-42e3-b81d-49ce19eb9cd8",
   "metadata": {},
   "outputs": [],
   "source": [
    "#@title Data retrieval\n",
    "import os, requests\n",
    "\n",
    "fname = []\n",
    "for j in range(3):\n",
    "  fname.append('steinmetz_part%d.npz'%j)\n",
    "url = [\"https://osf.io/agvxh/download\"]\n",
    "url.append(\"https://osf.io/uv3mw/download\")\n",
    "url.append(\"https://osf.io/ehmw2/download\")\n",
    "\n",
    "for j in range(len(url)):\n",
    "  if not os.path.isfile(fname[j]):\n",
    "    try:\n",
    "      r = requests.get(url[j])\n",
    "    except requests.ConnectionError:\n",
    "      print(\"!!! Failed to download data !!!\")\n",
    "    else:\n",
    "      if r.status_code != requests.codes.ok:\n",
    "        print(\"!!! Failed to download data !!!\")\n",
    "      else:\n",
    "        with open(fname[j], \"wb\") as fid:\n",
    "          fid.write(r.content)"
   ]
  },
  {
   "cell_type": "code",
   "execution_count": 2,
   "id": "8bdf3f3b-1b8c-4e0f-a02d-31c77dc48d07",
   "metadata": {},
   "outputs": [],
   "source": [
    "#@title Import matplotlib and set defaults\n",
    "from matplotlib import rcParams \n",
    "from matplotlib import pyplot as plt\n",
    "\n",
    "rcParams['figure.figsize'] = [20, 4]\n",
    "rcParams['font.size'] =15\n",
    "rcParams['axes.spines.top'] = False\n",
    "rcParams['axes.spines.right'] = False\n",
    "rcParams['figure.autolayout'] = True"
   ]
  },
  {
   "cell_type": "code",
   "execution_count": 3,
   "id": "32af18af-e356-4fc9-89a8-240e269b8f9d",
   "metadata": {},
   "outputs": [],
   "source": [
    "#@title Data loading\n",
    "import numpy as np\n",
    "\n",
    "alldat = np.array([])\n",
    "for j in range(len(fname)):\n",
    "  alldat = np.hstack((alldat, np.load('steinmetz_part%d.npz'%j, allow_pickle=True)['dat']))"
   ]
  },
  {
   "cell_type": "markdown",
   "id": "129bef12-66c5-4672-b59e-2193a9103101",
   "metadata": {},
   "source": [
    "`alldat` contains 39 sessions from 10 mice, data from Steinmetz et al, 2019. Time bins for all measurements are 10ms, starting 500ms before stimulus onset. The mouse had to determine which side has the highest contrast. For each `dat = alldat[k]`, you have the fields below. For extra variables, check out the extra notebook and extra data files (lfp, waveforms and exact spike times, non-binned). \n",
    "\n",
    "* `dat['mouse_name']`: mouse name\n",
    "* `dat['date_exp']`: when a session was performed\n",
    "* `dat['spks']`: neurons by trials by time bins.    \n",
    "* `dat['brain_area']`: brain area for each neuron recorded. \n",
    "* `dat['ccf']`: Allen Institute brain atlas coordinates for each neuron. \n",
    "* `dat['ccf_axes']`: axes names for the Allen CCF. \n",
    "* `dat['contrast_right']`: contrast level for the right stimulus, which is always contralateral to the recorded brain areas.\n",
    "* `dat['contrast_left']`: contrast level for left stimulus. \n",
    "* `dat['gocue']`: when the go cue sound was played. \n",
    "* `dat['response_times']`: when the response was registered, which has to be after the go cue. The mouse can turn the wheel before the go cue (and nearly always does!), but the stimulus on the screen won't move before the go cue.  \n",
    "* `dat['response']`: which side the response was (`-1`, `0`, `1`). When the right-side stimulus had higher contrast, the correct choice was `-1`. `0` is a no go response. \n",
    "* `dat['feedback_time']`: when feedback was provided. \n",
    "* `dat['feedback_type']`: if the feedback was positive (`+1`, reward) or negative (`-1`, white noise burst).  \n",
    "* `dat['wheel']`: turning speed of the wheel that the mice uses to make a response, sampled at `10ms`. \n",
    "* `dat['pupil']`: pupil area  (noisy, because pupil is very small) + pupil horizontal and vertical position.\n",
    "* `dat['face']`: average face motion energy from a video camera. \n",
    "* `dat['licks']`: lick detections, 0 or 1.   \n",
    "* `dat['trough_to_peak']`: measures the width of the action potential waveform for each neuron. Widths `<=10` samples are \"putative fast spiking neurons\". \n",
    "* `dat['%X%_passive']`: same as above for `X` = {`spks`, `pupil`, `wheel`, `contrast_left`, `contrast_right`} but for  passive trials at the end of the recording when the mouse was no longer engaged and stopped making responses. \n",
    "* `dat['prev_reward']`: time of the feedback (reward/white noise) on the previous trial in relation to the current stimulus time. \n",
    "* `dat['reaction_time']`: ntrials by 2. First column: reaction time computed from the wheel movement as the first sample above `5` ticks/10ms bin. Second column: direction of the wheel movement (`0` = no move detected).  \n",
    "\n",
    "\n"
   ]
  },
  {
   "cell_type": "code",
   "execution_count": 4,
   "id": "933e3282-31fb-43ef-b4e6-1707678d6401",
   "metadata": {},
   "outputs": [],
   "source": [
    "# @title Make a plot of which brain areas are present in each dataset\n",
    "regions = [\"vis ctx\", \"thal\", \"hipp\", \"other ctx\", \"midbrain\", \"basal ganglia\", \"cortical subplate\", \"other\"]\n",
    "region_colors = ['blue', 'red', 'green', 'darkblue', 'violet', 'lightblue', 'orange', 'gray']\n",
    "brain_groups = [[\"VISa\", \"VISam\", \"VISl\", \"VISp\", \"VISpm\", \"VISrl\"], # visual cortex\n",
    "                [\"CL\", \"LD\", \"LGd\", \"LH\", \"LP\", \"MD\", \"MG\", \"PO\", \"POL\", \"PT\", \"RT\", \"SPF\", \"TH\", \"VAL\", \"VPL\", \"VPM\"], # thalamus\n",
    "                [\"CA\", \"CA1\", \"CA2\", \"CA3\", \"DG\", \"SUB\", \"POST\"], # hippocampal\n",
    "                [\"ACA\", \"AUD\", \"COA\", \"DP\", \"ILA\", \"MOp\", \"MOs\", \"OLF\", \"ORB\", \"ORBm\", \"PIR\", \"PL\", \"SSp\", \"SSs\", \"RSP\",\"TT\"], # non-visual cortex\n",
    "                [\"APN\", \"IC\", \"MB\", \"MRN\", \"NB\", \"PAG\", \"RN\", \"SCs\", \"SCm\", \"SCig\", \"SCsg\", \"ZI\"], # midbrain\n",
    "                [\"ACB\", \"CP\", \"GPe\", \"LS\", \"LSc\", \"LSr\", \"MS\", \"OT\", \"SNr\", \"SI\"], # basal ganglia \n",
    "                [\"BLA\", \"BMA\", \"EP\", \"EPd\", \"MEA\"] # cortical subplate\n",
    "                ]"
   ]
  },
  {
   "cell_type": "code",
   "execution_count": null,
   "id": "19b0ed4c-30e7-4bf9-b242-6dcc635b58a0",
   "metadata": {},
   "outputs": [],
   "source": [
    "\n",
    "    "
   ]
  },
  {
   "cell_type": "code",
   "execution_count": 34,
   "id": "4a9c472a-7a43-43dd-a71c-119162f41d21",
   "metadata": {},
   "outputs": [],
   "source": [
    "dat=alldat[13]\n",
    "wheel=dat['wheel']\n",
    "wheel= wheel.squeeze()\n",
    "dt=dat['bin_size']\n",
    "t_vec=dt*np.arange(wheel.shape[-1])\n"
   ]
  },
  {
   "cell_type": "code",
   "execution_count": null,
   "id": "799759e9-d25b-4f66-8c03-d928f9b9630b",
   "metadata": {},
   "outputs": [],
   "source": []
  },
  {
   "cell_type": "code",
   "execution_count": null,
   "id": "904d56fc-8b16-4641-8f84-da8a3e8386ca",
   "metadata": {
    "tags": []
   },
   "outputs": [],
   "source": [
    "def get_valid_trials(dat):\n",
    "        \n",
    "        \n",
    "    reaction_times=np.squeeze(dat['reaction_time'][:,0])  \n",
    "    \n",
    "    cue_time=np.squeeze(dat['gocue'][:])\n",
    "                                            #print(\"Reaction times:\", reaction_times.shape, \" :\",cue_time.shape)\n",
    "    ind=(reaction_times[:]-cue_time[:]>0)   # and reaction_times[:]!=np.inf)\n",
    "                                            #print(\"Index shape0: \", ind.shape)\n",
    "    #ind=(reaction_times[ind]<np.inf)       #not sure why this reduce the dimension by 1\n",
    "\n",
    "    return ind\n",
    "\n",
    "def get_valid_spks(dat):    \n",
    "    #print(dat['spks'].shape)\n",
    "    spks=dat['spks'][:, get_valid_trials(dat)]\n",
    "    return spks\n",
    "\n",
    "\n",
    " \n",
    "\n",
    "    \n",
    "def get_brain_grp(alldat, brain_group):\n",
    "    \n",
    "        dat_weaved=dict()\n",
    "    \n",
    "    \n",
    "        grp_indices=(dat['brain_area'][:]==brain_group)## Take the indices where the data from neurons of the desired group is\n",
    "        valid_trial_indices=get_valid_trials(dat)       ## take the valid trials\n",
    "        spikes=get_valid_spks(dat)[grp_indices]         \n",
    "        dat_weaved['spks']=spikes.mean(axis=0)\n",
    "        dat_weaved['wheel']=np.squeeze(dat['wheel'])[valid_trial_indices]\n",
    "        dat_weaved['reaction_time']=dat['reaction_time'][valid_trial_indices]\n",
    "        dat_weaved['contrast_right']=dat['contrast_right']\n",
    "        dat_weaved['contrast_left']  =dat['contrast_left']\n",
    "        dat_weaved['gocue'] =dat['gocue'] \n",
    "        dat_weaved['response_time']=dat['response_time']  \n",
    "        dat_weaved['response'] =dat['response']\n",
    "        dat_weaved['feedback_time']= dat['feedback_time']\n",
    "        dat_weaved['feedback_type']= dat['feedback_type']   \n",
    "        \n",
    "        \n",
    "        return dat_weaved\n",
    "        "
   ]
  },
  {
   "cell_type": "code",
   "execution_count": 39,
   "id": "919665cd-157e-4131-92cc-4caaecd310fb",
   "metadata": {
    "tags": []
   },
   "outputs": [],
   "source": [
    "def weave_brain_grp(alldat, brain_group):\n",
    "    \n",
    "    dat_weaved=dict()\n",
    "    for i,dat in enumerate(alldat):\n",
    "    \n",
    "        #print(i, \": \", dat['spks'].shape,\"; \",np.sum(dat['brain_area'][:]==brain_group))\n",
    "        grp_indices=(dat['brain_area'][:]==brain_group)## Take the indices where the data from neurons of the desired group is\n",
    "        #print(grp_indices)\n",
    "        valid_trial_indices=get_valid_trials(dat)       ## take the valid trials\n",
    "        spikes=get_valid_spks(dat)[grp_indices]         \n",
    "        print(spikes.shape)\n",
    "        if i==0:\n",
    "            dat_weaved['spks']=spikes.mean(axis=0)\n",
    "            dat_weaved['wheel']=np.squeeze(dat['wheel'])[valid_trial_indices]\n",
    "            dat_weaved['reaction_time']=dat['reaction_time'][valid_trial_indices]\n",
    "            dat_weaved['contrast_right']=dat['contrast_right']\n",
    "            dat_weaved['contrast_left']  =dat['contrast_left']\n",
    "            dat_weaved['gocue'] =dat['gocue'] \n",
    "            dat_weaved['response_time']=dat['response_time']  \n",
    "            dat_weaved['response'] =dat['response']\n",
    "            dat_weaved['feedback_time']= dat['feedback_time']\n",
    "            dat_weaved['feedback_type']= dat['feedback_type']\n",
    "        else:\n",
    "            dat_weaved['spks']=np.vstack([dat_weaved['spks'],spikes.mean(axis=0)[:][:]])\n",
    "            dat_weaved['wheel']=np.vstack([dat_weaved['wheel'],np.squeeze(dat['wheel'])[valid_trial_indices]])\n",
    "            dat_weaved['reaction_time']=np.vstack([dat_weaved['reaction_time'],dat['reaction_time'][valid_trial_indices]])\n",
    "            dat_weaved['contrast_right']=np.vstack([dat_weaved['contrast_right'],dat['contrast_right']])\n",
    "            dat_weaved['contrast_left'] =np.vstack([dat_weaved['contrast_left'],dat['contrast_left']])\n",
    "            dat_weaved['gocue'] =np.vstack([dat_weaved['gocue'],dat['gocue'] ])\n",
    "            dat_weaved['response_time']=np.vstack([dat_weaved['response_time'],dat['response_time']])  \n",
    "            dat_weaved['response'] =np.vstack([dat_weaved['response'],dat['response']])\n",
    "            dat_weaved['feedback_time']= np.vstack([dat_weaved['feedback_time'].dat['feedback_time']])\n",
    "            dat_weaved['feedback_type']= np.vstack([dat_weaved['feedback_type'],dat['feedback_type']])\n",
    "        \n",
    "    return dat_weaved "
   ]
  },
  {
   "cell_type": "code",
   "execution_count": null,
   "id": "00ef7217-ba4c-425f-b5fa-9ab4bcb112d5",
   "metadata": {},
   "outputs": [],
   "source": [
    "the Steinmetz manuscript says all the recordings were made on the left side!"
   ]
  },
  {
   "cell_type": "code",
   "execution_count": null,
   "id": "beed42a7-21c6-44b7-8044-def1eb9fb0ee",
   "metadata": {},
   "outputs": [],
   "source": [
    "from sklearn import linear_model\n",
    "from sklearn.model_selection import cross_val_score\n",
    "\n"
   ]
  },
  {
   "cell_type": "code",
   "execution_count": 37,
   "id": "00d8b9ff-0903-4e10-a670-8cccc548535c",
   "metadata": {},
   "outputs": [],
   "source": [
    "def make_design_matrix(stim, d=25):\n",
    "  \"\"\"Create time-lag design matrix from stimulus intensity vector.\n",
    "\n",
    "  Args:\n",
    "    stim (1D array): Stimulus intensity at each time point.\n",
    "    d (number): Number of time lags to use.\n",
    "\n",
    "  Returns\n",
    "    X (2D array): GLM design matrix with shape T, d\n",
    "\n",
    "  \"\"\"\n",
    "\n",
    "  # Create version of stimulus vector with zeros before onset\n",
    "  padded_stim = np.concatenate([np.zeros(d - 1), stim])\n",
    "\n",
    "  # Construct a matrix where each row has the d frames of\n",
    "  # the stimulus proceeding and including timepoint t\n",
    "  T = len(stim)  # Total number of timepoints (hint: number of stimulus frames)\n",
    "  X = np.zeros((T, d))\n",
    "  for t in range(T):\n",
    "      X[t] =padded_stim[t:t + d]\n",
    "\n",
    "  return X\n"
   ]
  },
  {
   "cell_type": "code",
   "execution_count": 73,
   "id": "af464595-f239-44a3-ad75-f561ae58bef1",
   "metadata": {},
   "outputs": [],
   "source": [
    "\n",
    "def get_wheel_speed(dat):\n",
    "    wheel=dat['wheel']\n",
    "    wheel= wheel.squeeze()\n",
    "    return wheel\n",
    "\n",
    "\n",
    "def get_stacked_output_vec(wheel):\n",
    "    \"\"\"\n",
    "    wheel: is a 2d array with the rows corresponding to trials and columns correspong to the time bin\n",
    "    \n",
    "    returns: 1-d vector with all the output values and 1st wheel.shape[1] elements will store speeds in the time bins of 1st trial and from 2wheel.shape[1]-wheel.shape[1] will store the wheel speeds of 2nd trial and so on \n",
    "    \"\"\"\n",
    "    wheel_set_vec=np.array([])\n",
    "    for i in range(wheel.shape[0]):\n",
    "        wheel_set_vec=np.concatenate([wheel_set_vec,wheel[i]]) \n",
    "    \n",
    "    return wheel_set_vec\n",
    "        \n",
    "def get_stacked_design(spks_mean_neurons, d=25):\n",
    "    \n",
    "    X_stacked=make_design_matrix(spks_mean_neurons[0], d=25)\n",
    "    for i in range(1,spks_mean_neurons.shape[0]):\n",
    "        X_stacked=np.vstack([X_stacked, make_design_matrix(spks_mean_neurons[0], d=25)] )\n",
    "\n",
    "    return X_stacked\n",
    "\n",
    "    \n",
    "    "
   ]
  },
  {
   "cell_type": "code",
   "execution_count": 76,
   "id": "f63f0086-f6d5-47f8-a368-55f96153848f",
   "metadata": {},
   "outputs": [
    {
     "name": "stdout",
     "output_type": "stream",
     "text": [
      "(67000, 25)\n"
     ]
    }
   ],
   "source": [
    "spk_mean=np.mean(dat['spks'],axis=0)\n",
    "X_st=get_stacked_design(spk_mean, d=25)\n",
    "print(X_st.shape)"
   ]
  },
  {
   "cell_type": "code",
   "execution_count": null,
   "id": "cbd3fd8f-72a6-4697-9a30-b39d7daf243b",
   "metadata": {},
   "outputs": [],
   "source": []
  }
 ],
 "metadata": {
  "kernelspec": {
   "display_name": "Python 3 (ipykernel)",
   "language": "python",
   "name": "python3"
  },
  "language_info": {
   "codemirror_mode": {
    "name": "ipython",
    "version": 3
   },
   "file_extension": ".py",
   "mimetype": "text/x-python",
   "name": "python",
   "nbconvert_exporter": "python",
   "pygments_lexer": "ipython3",
   "version": "3.9.5"
  }
 },
 "nbformat": 4,
 "nbformat_minor": 5
}
