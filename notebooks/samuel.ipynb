{
 "cells": [
  {
   "cell_type": "code",
   "execution_count": 1,
   "id": "d22e6b0b-6ad6-47b3-9a54-c68718ca1d6d",
   "metadata": {},
   "outputs": [],
   "source": [
    "#Imports\n",
    "from matplotlib import rcParams \n",
    "from matplotlib import pyplot as plt\n",
    "\n",
    "import numpy as np\n",
    "\n",
    "from sklearn.linear_model import LogisticRegression\n",
    "from sklearn.model_selection import cross_val_score\n",
    "\n",
    "rcParams['figure.figsize'] = [20, 4]\n",
    "rcParams['font.size'] =15\n",
    "rcParams['axes.spines.top'] = False\n",
    "rcParams['axes.spines.right'] = False\n",
    "rcParams['figure.autolayout'] = True"
   ]
  },
  {
   "cell_type": "code",
   "execution_count": 2,
   "id": "26fb6111-1e68-4002-a97c-78f7a657daa9",
   "metadata": {},
   "outputs": [],
   "source": [
    "#Import local Data\n",
    "\n",
    "alldat = np.array([])\n",
    "for j in range(3):\n",
    "    alldat = np.hstack((alldat, np.load('/LinuxSata/Dokumente/Master of Neuroscience/NMA_CN_2021/steinmetz_part%d.npz'%j, allow_pickle=True)['dat']))\n",
    "    \n",
    "brain_groups = [[\"VISa\", \"VISam\", \"VISl\", \"VISp\", \"VISpm\", \"VISrl\"], # visual cortex\n",
    "                [\"CL\", \"LD\", \"LGd\", \"LH\", \"LP\", \"MD\", \"MG\", \"PO\", \"POL\", \"PT\", \"RT\", \"SPF\", \"TH\", \"VAL\", \"VPL\", \"VPM\"], # thalamus\n",
    "                [\"CA\", \"CA1\", \"CA2\", \"CA3\", \"DG\", \"SUB\", \"POST\"], # hippocampal\n",
    "                [\"ACA\", \"AUD\", \"COA\", \"DP\", \"ILA\", \"MOp\", \"MOs\", \"OLF\", \"ORB\", \"ORBm\", \"PIR\", \"PL\", \"SSp\", \"SSs\", \"RSP\",\" TT\"], # non-visual cortex\n",
    "                [\"APN\", \"IC\", \"MB\", \"MRN\", \"NB\", \"PAG\", \"RN\", \"SCs\", \"SCm\", \"SCig\", \"SCsg\", \"ZI\"], # midbrain\n",
    "                [\"ACB\", \"CP\", \"GPe\", \"LS\", \"LSc\", \"LSr\", \"MS\", \"OT\", \"SNr\", \"SI\"], # basal ganglia \n",
    "                [\"BLA\", \"BMA\", \"EP\", \"EPd\", \"MEA\"] # cortical subplate\n",
    "                ]"
   ]
  },
  {
   "cell_type": "code",
   "execution_count": 3,
   "id": "91f695c1-f98a-4b3a-95a6-55c7cf1f891d",
   "metadata": {},
   "outputs": [],
   "source": [
    "dat = alldat[11] # Take one experiment\n",
    "\n",
    "vis_right = dat['contrast_right'] # 0 - low - high\n",
    "vis_left = dat['contrast_left'] # 0 - low - high\n",
    "\n",
    "dt = dat['bin_size'] # binning at 10 ms\n",
    "NT = dat['spks'].shape[-1]\n",
    "\n",
    "nareas = 4 # only the top 4 regions are in this particular mouse\n",
    "NN = len(dat['brain_area']) # number of neurons\n",
    "barea = nareas * np.ones(NN, ) # last one is \"other\"\n",
    "\n",
    "for j in range(nareas):\n",
    "    barea[np.isin(dat['brain_area'], brain_groups[j])] = j # assign a number to each region"
   ]
  },
  {
   "cell_type": "code",
   "execution_count": 4,
   "id": "e90792ab-88b5-4ad8-b42d-017c20067ec9",
   "metadata": {},
   "outputs": [
    {
     "data": {
      "text/plain": [
       "(698, 340, 250)"
      ]
     },
     "execution_count": 4,
     "metadata": {},
     "output_type": "execute_result"
    }
   ],
   "source": [
    "dat['spks'].shape\n",
    "#Neuron, Trial, Time"
   ]
  },
  {
   "cell_type": "code",
   "execution_count": 114,
   "id": "700e2e29-eb45-490b-abf5-68c6f7dfb9f2",
   "metadata": {},
   "outputs": [
    {
     "data": {
      "text/plain": [
       "(276, 698)"
      ]
     },
     "execution_count": 114,
     "metadata": {},
     "output_type": "execute_result"
    }
   ],
   "source": [
    "average_HZ = np.zeros_like(dat['spks'].mean(axis=2).T) #create an array with shape n_Trial, n_Neuron\n",
    "\n",
    "start_idx = ((dat['gocue'] * 1/dat['bin_size']).astype(int)).squeeze() # from go cue time get the index of the first bin \n",
    "stop_idx = ((dat['response_time'] * 1/dat['bin_size']).astype(int)).squeeze() # from the response time get the index of the last bin\n",
    "# Example: If gue_cue  = 0.71 there where 710 ms before the cue was played\n",
    "# since one bin equals to 10ms we need the first 71 bins\n",
    "# -> int(gue_cue * 1 / bin_size) = 71 -> first 71 idices\n",
    "\n",
    "for i, start in enumerate(start_idx):\n",
    "    average_HZ[i, :] =  dat['spks'][:, index, :stop_idx[i]].mean(axis=1) #average the over time to get average fiering rate\n",
    "    \n",
    "    \n",
    "average_HZ = average_HZ[np.nonzero(dat['response'])] #Filter out Trials with no response\n",
    "average_HZ.shape\n",
    "#n_Trial, n_Neuron"
   ]
  },
  {
   "cell_type": "code",
   "execution_count": 115,
   "id": "fe15d9cb-69c5-4942-80ac-82a609237e10",
   "metadata": {},
   "outputs": [],
   "source": [
    "response = dat['response'][np.nonzero(dat['response'])] # Get the response (the direction chosen by the mouse)"
   ]
  },
  {
   "cell_type": "code",
   "execution_count": 116,
   "id": "59dcf0c8-b2cb-48ea-85fe-7626f86d254a",
   "metadata": {},
   "outputs": [],
   "source": [
    "log_reg = LogisticRegression(penalty=\"l2\")\n",
    "log_reg.fit(average_HZ, response)\n",
    "response_prediction = log_reg.predict(average_HZ)"
   ]
  },
  {
   "cell_type": "code",
   "execution_count": 117,
   "id": "2bfbed10-6fd7-4630-a910-9737d8d9629e",
   "metadata": {},
   "outputs": [
    {
     "name": "stdout",
     "output_type": "stream",
     "text": [
      "Accuracy on the training data: 56.52%\n"
     ]
    }
   ],
   "source": [
    "def compute_accuracy(X, y, model):\n",
    "    \"\"\"Compute accuracy of classifier predictions.\n",
    "\n",
    "    Args:\n",
    "        X (2D array): Data matrix\n",
    "        y (1D array): Label vector\n",
    "        model (sklearn estimator): Classifier with trained weights.\n",
    "\n",
    "    Returns:\n",
    "        accuracy (float): Proportion of correct predictions.\n",
    "    \"\"\"\n",
    "\n",
    "    y_pred = model.predict(X)\n",
    " \n",
    "\n",
    "    accuracy = np.sum(y_pred == y) / len(y)\n",
    "\n",
    "    return accuracy\n",
    "\n",
    "\n",
    "# Compute train accurcy\n",
    "train_accuracy = compute_accuracy(average_HZ, response, log_reg)\n",
    "print(f\"Accuracy on the training data: {train_accuracy:.2%}\")"
   ]
  },
  {
   "cell_type": "code",
   "execution_count": 119,
   "id": "01803427-ec7a-44ab-8abd-364aeee80976",
   "metadata": {},
   "outputs": [
    {
     "data": {
      "image/png": "[encoded data removed]",
      "text/plain": [
       "<Figure size 576x216 with 1 Axes>"
      ]
     },
     "metadata": {
      "needs_background": "light"
     },
     "output_type": "display_data"
    }
   ],
   "source": [
    "k_fold = 16\n",
    "\n",
    "accuracies = cross_val_score(LogisticRegression(penalty='l2', C=100,max_iter=5000), average_HZ, response, cv=k_fold)\n",
    "\n",
    "f, ax = plt.subplots(figsize=(8, 3))\n",
    "ax.boxplot(accuracies, vert=False, widths=.7)\n",
    "ax.scatter(accuracies, np.ones(k_fold))\n",
    "ax.set(\n",
    "  xlabel=\"Accuracy\",\n",
    "  yticks=[],\n",
    "  title=f\"Average test accuracy: {accuracies.mean():.2%}\"\n",
    ")\n",
    "ax.spines[\"left\"].set_visible(False)"
   ]
  },
  {
   "cell_type": "code",
   "execution_count": 43,
   "id": "075c3cb3-e4f5-4f5e-8865-b85881af6f34",
   "metadata": {},
   "outputs": [
    {
     "data": {
      "image/png": "[encoded data removed]",
      "text/plain": [
       "<Figure size 1440x288 with 1 Axes>"
      ]
     },
     "metadata": {
      "needs_background": "light"
     },
     "output_type": "display_data"
    }
   ],
   "source": [
    "def model_selection(X, y, C_values):\n",
    "    \"\"\"Compute CV accuracy for each C value.\n",
    "    Args:\n",
    "        X (2D array): Data matrix\n",
    "        y (1D array): Label vector\n",
    "        C_values (1D array): Array of hyperparameter values.\n",
    "    Returns:\n",
    "        accuracies (1D array): CV accuracy with each value of C.\n",
    "    \"\"\"\n",
    "    accuracies = []\n",
    "    for C in C_values:\n",
    "\n",
    "        # Initialize and fit the model\n",
    "        # (Hint, you may need to set max_iter)\n",
    "        model = LogisticRegression(penalty=\"l2\", C=C, max_iter=5000)\n",
    "\n",
    "        # Get the accuracy for each test split using cross-validation\n",
    "        accs = cross_val_score(model, X, y, cv=8)\n",
    "\n",
    "        # Store the average test accuracy for this value of C\n",
    "        accuracies.append(accs.mean())\n",
    "\n",
    "    return accuracies\n",
    "\n",
    "\n",
    "def plot_model_selection(C_values, accuracies):\n",
    "    \"\"\"Plot the accuracy curve over log-spaced C values.\"\"\"\n",
    "    ax = plt.figure().subplots()\n",
    "    ax.set_xscale(\"log\")\n",
    "    ax.plot(C_values, accuracies, marker=\"o\")\n",
    "    best_C = C_values[np.argmax(accuracies)]\n",
    "    ax.set(\n",
    "        xticks=C_values,\n",
    "        xlabel=\"$C$\",\n",
    "        ylabel=\"Cross-validated accuracy\",\n",
    "        title=f\"Best C: {best_C:1g} ({np.max(accuracies):.2%})\",\n",
    "        )\n",
    "\n",
    "# Use log-spaced values for C\n",
    "C_values = np.logspace(-4, 4, 9)\n",
    "\n",
    "# Compute accuracies\n",
    "accuracies = model_selection(average_HZ, response, C_values)\n",
    "\n",
    "# Visualize\n",
    "\n",
    "plot_model_selection(C_values, accuracies)"
   ]
  },
  {
   "cell_type": "code",
   "execution_count": 4,
   "id": "1a96b496-0429-41bd-8165-134e0b16613b",
   "metadata": {},
   "outputs": [],
   "source": [
    "# Only use a part of the neurons, look at different regions\n",
    "# Look at the History of the experiments, maybe they have impact\n",
    "# Only look at trials with a long reaction time / low weel movement during the desicion making process."
   ]
  },
  {
   "cell_type": "code",
   "execution_count": 6,
   "id": "785872a6-a63f-4e85-b874-f762be1eb8bc",
   "metadata": {},
   "outputs": [],
   "source": [
    "# Some Filters: \n",
    "start_idx = ((dat['gocue'] * 1/dat['bin_size']).astype(int)).squeeze() # from go cue time get the index of the first bin \n",
    "stop_idx = ((dat['response_time'] * 1/dat['bin_size']).astype(int)).squeeze() # from the response time get the index of the last bin\n",
    "\n",
    "# only from cue on:\n",
    "after_cue = np.zeros_like(dat['spks'], dtype = bool)\n",
    "before_response = np.zeros_like(dat['spks'], dtype = bool)\n",
    "\n",
    "for i, j in enumerate(start_idx):\n",
    "    after_cue[:, i, j:] = True\n",
    "\n",
    "for i, j in enumerate(stop_idx):\n",
    "    before_response[:, i, :j] = True\n",
    "    \n",
    "between_cue_and_response = after_cue & before_response"
   ]
  },
  {
   "cell_type": "code",
   "execution_count": 7,
   "id": "d4e57a50-c8a9-48b5-8468-e6aed09997b8",
   "metadata": {},
   "outputs": [
    {
     "data": {
      "text/plain": [
       "[<matplotlib.lines.Line2D at 0x7f28b49f19a0>]"
      ]
     },
     "execution_count": 7,
     "metadata": {},
     "output_type": "execute_result"
    },
    {
     "data": {
      "image/png": "[encoded data removed]",
      "text/plain": [
       "<Figure size 1440x288 with 3 Axes>"
      ]
     },
     "metadata": {
      "needs_background": "light"
     },
     "output_type": "display_data"
    }
   ],
   "source": [
    "fig, ax = plt.subplots(3, 1)\n",
    "ax[0].plot(between_cue_and_response[0, 0, :])\n",
    "ax[1].plot(after_cue[0, 0, :])\n",
    "ax[2].plot(before_response[0, 0, :])"
   ]
  },
  {
   "cell_type": "code",
   "execution_count": 8,
   "id": "04110ae1-6888-4740-8cf6-30f83ac6f5e7",
   "metadata": {},
   "outputs": [
    {
     "data": {
      "text/plain": [
       "151"
      ]
     },
     "execution_count": 8,
     "metadata": {},
     "output_type": "execute_result"
    }
   ],
   "source": [
    "between_cue_and_response[0, 0, :].sum()"
   ]
  },
  {
   "cell_type": "code",
   "execution_count": 41,
   "id": "22ed14e4-e5a6-4654-ba11-c5af105f90d1",
   "metadata": {},
   "outputs": [
    {
     "data": {
      "text/plain": [
       "(11578424,)"
      ]
     },
     "execution_count": 41,
     "metadata": {},
     "output_type": "execute_result"
    }
   ],
   "source": [
    "dat[\"spks\"][between_cue_and_response].shape"
   ]
  },
  {
   "cell_type": "code",
   "execution_count": 33,
   "id": "ae03947c-ff91-4c6e-8545-9be68240a6d6",
   "metadata": {},
   "outputs": [
    {
     "data": {
      "text/plain": [
       "(698, 340, 250)"
      ]
     },
     "execution_count": 33,
     "metadata": {},
     "output_type": "execute_result"
    }
   ],
   "source": [
    "between_cue_and_response.shape"
   ]
  },
  {
   "cell_type": "code",
   "execution_count": 35,
   "id": "d428df0a-79c1-4a97-a612-4cb9bdbce331",
   "metadata": {},
   "outputs": [
    {
     "data": {
      "text/plain": [
       "59330000"
      ]
     },
     "execution_count": 35,
     "metadata": {},
     "output_type": "execute_result"
    }
   ],
   "source": []
  },
  {
   "cell_type": "code",
   "execution_count": 38,
   "id": "d4543a90-fe70-48d5-89d5-278adbb41bdc",
   "metadata": {},
   "outputs": [
    {
     "data": {
      "text/plain": [
       "(698, 340, 250)"
      ]
     },
     "execution_count": 38,
     "metadata": {},
     "output_type": "execute_result"
    }
   ],
   "source": [
    "between_cue_and_response.shape"
   ]
  },
  {
   "cell_type": "code",
   "execution_count": 39,
   "id": "5877fbda-698c-45d6-a09e-f5595611f7b0",
   "metadata": {},
   "outputs": [
    {
     "data": {
      "text/plain": [
       "(698, 340, 250)"
      ]
     },
     "execution_count": 39,
     "metadata": {},
     "output_type": "execute_result"
    }
   ],
   "source": [
    "dat[\"spks\"].shape"
   ]
  },
  {
   "cell_type": "code",
   "execution_count": 44,
   "id": "32a67385-6360-4f3a-a750-cd83d07112ed",
   "metadata": {},
   "outputs": [],
   "source": [
    "a = np.arange(9*3).reshape(3,3,3)"
   ]
  },
  {
   "cell_type": "code",
   "execution_count": 49,
   "id": "3755a610-bf42-40b1-9c9f-c5a8502904d1",
   "metadata": {},
   "outputs": [],
   "source": [
    "b = np.zeros_like(a,dtype=bool)"
   ]
  },
  {
   "cell_type": "code",
   "execution_count": 57,
   "id": "b8386e4a-b9f0-4255-8f0b-9a2f84b1ca6c",
   "metadata": {},
   "outputs": [],
   "source": [
    "b[:, :, 1:] = True"
   ]
  },
  {
   "cell_type": "code",
   "execution_count": 62,
   "id": "11c9965d-68ae-47ea-9992-63938824cf34",
   "metadata": {},
   "outputs": [
    {
     "data": {
      "text/plain": [
       "array([ 1,  2,  4,  5,  7,  8, 10, 11, 13, 14, 16, 17, 19, 20, 22, 23, 25,\n",
       "       26])"
      ]
     },
     "execution_count": 62,
     "metadata": {},
     "output_type": "execute_result"
    }
   ],
   "source": [
    "a[b]"
   ]
  },
  {
   "cell_type": "code",
   "execution_count": 56,
   "id": "97bff5cb-dd50-4f2d-94fd-9ea091853dbc",
   "metadata": {},
   "outputs": [
    {
     "data": {
      "text/plain": [
       "array([[[ 0,  1,  2],\n",
       "        [ 3,  4,  5],\n",
       "        [ 6,  7,  8]],\n",
       "\n",
       "       [[ 9, 10, 11],\n",
       "        [12, 13, 14],\n",
       "        [15, 16, 17]],\n",
       "\n",
       "       [[18, 19, 20],\n",
       "        [21, 22, 23],\n",
       "        [24, 25, 26]]])"
      ]
     },
     "execution_count": 56,
     "metadata": {},
     "output_type": "execute_result"
    }
   ],
   "source": [
    "a"
   ]
  },
  {
   "cell_type": "code",
   "execution_count": null,
   "id": "09a2b4f9-f170-47e8-87e6-723965c362fa",
   "metadata": {},
   "outputs": [],
   "source": []
  }
 ],
 "metadata": {
  "kernelspec": {
   "display_name": "Python 3",
   "language": "python",
   "name": "python3"
  },
  "language_info": {
   "codemirror_mode": {
    "name": "ipython",
    "version": 3
   },
   "file_extension": ".py",
   "mimetype": "text/x-python",
   "name": "python",
   "nbconvert_exporter": "python",
   "pygments_lexer": "ipython3",
   "version": "3.9.5"
  }
 },
 "nbformat": 4,
 "nbformat_minor": 5
}
