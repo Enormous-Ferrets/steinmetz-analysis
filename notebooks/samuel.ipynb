{
 "cells": [
  {
   "cell_type": "code",
   "execution_count": 1,
   "id": "d22e6b0b-6ad6-47b3-9a54-c68718ca1d6d",
   "metadata": {},
   "outputs": [],
   "source": [
    "#Imports\n",
    "from matplotlib import rcParams \n",
    "from matplotlib import pyplot as plt\n",
    "\n",
    "import numpy as np\n",
    "\n",
    "from sklearn.linear_model import LogisticRegression\n",
    "from sklearn.model_selection import cross_val_score\n",
    "from sklearn.ensemble import BaggingClassifier\n",
    "\n",
    "rcParams['figure.figsize'] = [20, 4]\n",
    "rcParams['font.size'] =15\n",
    "rcParams['axes.spines.top'] = False\n",
    "rcParams['axes.spines.right'] = False\n",
    "rcParams['figure.autolayout'] = True"
   ]
  },
  {
   "cell_type": "code",
   "execution_count": 2,
   "id": "26fb6111-1e68-4002-a97c-78f7a657daa9",
   "metadata": {},
   "outputs": [],
   "source": [
    "#Import local Data\n",
    "\n",
    "alldat = np.array([])\n",
    "for j in range(3):\n",
    "    alldat = np.hstack((alldat, np.load('/LinuxSata/Dokumente/Master of Neuroscience/NMA_CN_2021/steinmetz_part%d.npz'%j, allow_pickle=True)['dat']))\n",
    "    \n",
    "brain_groups = [[\"VISa\", \"VISam\", \"VISl\", \"VISp\", \"VISpm\", \"VISrl\"], # visual cortex\n",
    "                [\"CL\", \"LD\", \"LGd\", \"LH\", \"LP\", \"MD\", \"MG\", \"PO\", \"POL\", \"PT\", \"RT\", \"SPF\", \"TH\", \"VAL\", \"VPL\", \"VPM\"], # thalamus\n",
    "                [\"CA\", \"CA1\", \"CA2\", \"CA3\", \"DG\", \"SUB\", \"POST\"], # hippocampal\n",
    "                [\"ACA\", \"AUD\", \"COA\", \"DP\", \"ILA\", \"MOp\", \"MOs\", \"OLF\", \"ORB\", \"ORBm\", \"PIR\", \"PL\", \"SSp\", \"SSs\", \"RSP\",\" TT\"], # non-visual cortex\n",
    "                [\"APN\", \"IC\", \"MB\", \"MRN\", \"NB\", \"PAG\", \"RN\", \"SCs\", \"SCm\", \"SCig\", \"SCsg\", \"ZI\"], # midbrain\n",
    "                [\"ACB\", \"CP\", \"GPe\", \"LS\", \"LSc\", \"LSr\", \"MS\", \"OT\", \"SNr\", \"SI\"], # basal ganglia \n",
    "                [\"BLA\", \"BMA\", \"EP\", \"EPd\", \"MEA\"] # cortical subplate\n",
    "                ]"
   ]
  },
  {
   "cell_type": "code",
   "execution_count": 3,
   "id": "2bfbed10-6fd7-4630-a910-9737d8d9629e",
   "metadata": {},
   "outputs": [],
   "source": [
    "def compute_accuracy(X, y, model):\n",
    "    \"\"\"Compute accuracy of classifier predictions.\n",
    "\n",
    "    Args:\n",
    "        X (2D array): Data matrix\n",
    "        y (1D array): Label vector\n",
    "        model (sklearn estimator): Classifier with trained weights.\n",
    "\n",
    "    Returns:\n",
    "        accuracy (float): Proportion of correct predictions.\n",
    "    \"\"\"\n",
    "\n",
    "    y_pred = model.predict(X)\n",
    " \n",
    "\n",
    "    accuracy = np.sum(y_pred == y) / len(y)\n",
    "\n",
    "    return accuracy"
   ]
  },
  {
   "cell_type": "code",
   "execution_count": 4,
   "id": "075c3cb3-e4f5-4f5e-8865-b85881af6f34",
   "metadata": {},
   "outputs": [],
   "source": [
    "def model_selection(X, y, C_values, k_fold, penalty='l2'):\n",
    "    \"\"\"Compute CV accuracy for each C value.\n",
    "    Args:\n",
    "        X (2D array): Data matrix\n",
    "        y (1D array): Label vector\n",
    "        C_values (1D array): Array of hyperparameter values.\n",
    "    Returns:\n",
    "        accuracies (1D array): CV accuracy with each value of C.\n",
    "    \"\"\"\n",
    "    accuracies = []\n",
    "    for C in C_values:\n",
    "\n",
    "        # Initialize and fit the model\n",
    "        # (Hint, you may need to set max_iter)\n",
    "        model = LogisticRegression(penalty=penalty, C=C, max_iter=5000, solver='liblinear')\n",
    "\n",
    "        # Get the accuracy for each test split using cross-validation\n",
    "        accs = cross_val_score(model, X, y, cv=k_fold)\n",
    "\n",
    "        # Store the average test accuracy for this value of C\n",
    "        accuracies.append(accs.mean())\n",
    "\n",
    "    return accuracies\n",
    "\n",
    "\n",
    "def plot_model_selection(C_values, accuracies):\n",
    "    \"\"\"Plot the accuracy curve over log-spaced C values.\"\"\"\n",
    "    ax = plt.figure().subplots()\n",
    "    ax.set_xscale(\"log\")\n",
    "    ax.plot(C_values, accuracies, marker=\"o\")\n",
    "    best_C = C_values[np.argmax(accuracies)]\n",
    "    ax.set(\n",
    "        xticks=C_values,\n",
    "        xlabel=\"$C$\",\n",
    "        ylabel=\"Cross-validated accuracy\",\n",
    "        title=f\"Best C: {best_C:1g} ({np.max(accuracies):.2%})\",\n",
    "        )\n",
    "\n",
    "def plot_weights(models, sharey=True):\n",
    "    \"\"\"Draw a stem plot of weights for each model in models dict.\"\"\"\n",
    "    n = len(models)\n",
    "    f = plt.figure(figsize=(10, 2.5 * n))\n",
    "    axs = f.subplots(n, sharex=True, sharey=sharey)\n",
    "    axs = np.atleast_1d(axs)\n",
    "\n",
    "    for ax, (title, model) in zip(axs, models.items()):\n",
    "\n",
    "        ax.margins(x=.02)\n",
    "        stem = ax.stem(model.coef_.squeeze(), use_line_collection=True)\n",
    "        stem[0].set_marker(\".\")\n",
    "        stem[0].set_color(\".2\")\n",
    "        stem[1].set_linewidths(.5)\n",
    "        stem[1].set_color(\".2\")\n",
    "        stem[2].set_visible(False)\n",
    "        ax.axhline(0, color=\"C3\", lw=3)\n",
    "        ax.set(ylabel=\"Weight\", title=title)\n",
    "        ax.set(xlabel=\"Neuron (a.k.a. feature)\")\n",
    "        f.tight_layout()\n",
    "    \n",
    "    \n",
    "# Use log-spaced values for C\n",
    "C_values = np.logspace(-4, 4, 9)"
   ]
  },
  {
   "cell_type": "code",
   "execution_count": 5,
   "id": "785872a6-a63f-4e85-b874-f762be1eb8bc",
   "metadata": {},
   "outputs": [],
   "source": [
    "# Some Filters: \n",
    "dat = alldat[11]\n",
    "start_idx = ((dat['gocue'] * 1/dat['bin_size']).astype(int)).squeeze() # from go cue time get the index of the first bin \n",
    "stop_idx = ((dat['response_time'] * 1/dat['bin_size']).astype(int)).squeeze() # from the response time get the index of the last bin\n",
    "\n",
    "# only from cue on:\n",
    "after_cue = np.zeros_like(dat['spks'][0, :, :], dtype = bool)\n",
    "before_response = np.zeros_like(dat['spks'][0, :, :], dtype = bool)\n",
    "\n",
    "for i, j in enumerate(start_idx):\n",
    "    after_cue[i, j:] = True\n",
    "\n",
    "for i, j in enumerate(stop_idx):\n",
    "    before_response[i, :j] = True\n",
    "    \n",
    "between_cue_and_response = after_cue & before_response\n",
    "\n",
    "\n",
    "spike_times = np.where(dat['spks'][0] == 1)\n",
    "\n",
    "    \n",
    "#plt.eventplot(spike_times)\n",
    "        #avg_hz.append(dat['spks'][:, i, j].mean(axis = 1))\n",
    "        #response.append(dat['response'][i])\n",
    "        "
   ]
  },
  {
   "cell_type": "code",
   "execution_count": 6,
   "id": "34b4bbfe-fd6c-4d62-bb03-2c7f668c6817",
   "metadata": {},
   "outputs": [
    {
     "name": "stdout",
     "output_type": "stream",
     "text": [
      "(82, 698)\n"
     ]
    }
   ],
   "source": [
    "avg_hz = []\n",
    "response = []\n",
    "\n",
    "for i,j in enumerate(between_cue_and_response):    \n",
    "    if j.sum() >= 25 and dat['response'][i] != 0 :\n",
    "        avg_hz.append(dat['spks'][:, i, j].mean(axis = 1))\n",
    "        response.append(dat['response'][i])\n",
    "        \n",
    "avg_hz = np.asarray(avg_hz)\n",
    "print(avg_hz.shape)\n",
    "\n"
   ]
  },
  {
   "cell_type": "code",
   "execution_count": 7,
   "id": "c40e83dd-9b81-4ebb-87f3-0cabd54176ae",
   "metadata": {},
   "outputs": [],
   "source": [
    "#Split up into different brain regions:\n",
    "nareas = 7 # only the top 4 regions are in this particular mouse\n",
    "NN = len(dat['brain_area']) # number of neurons\n",
    "barea = nareas * np.ones(NN, ) # last one is \"other\"\n",
    "\n",
    "for j in range(nareas):\n",
    "    barea[np.isin(dat['brain_area'], brain_groups[j])] = int(j) # assign a number to each region\n",
    "    \n"
   ]
  },
  {
   "cell_type": "code",
   "execution_count": 16,
   "id": "30698ea8-47f4-4991-947b-76370bf20187",
   "metadata": {},
   "outputs": [
    {
     "name": "stdout",
     "output_type": "stream",
     "text": [
      "Visual Cortex\n",
      "Thalamus\n",
      "Hippocampal\n",
      "Non-Visual Cortex\n"
     ]
    },
    {
     "data": {
      "text/plain": [
       "[Text(1, 0, 'Visual Cortex'),\n",
       " Text(2, 0, 'Thalamus'),\n",
       " Text(3, 0, 'Hippocampal'),\n",
       " Text(4, 0, 'Non-Visual Cortex')]"
      ]
     },
     "execution_count": 16,
     "metadata": {},
     "output_type": "execute_result"
    },
    {
     "data": {
      "image/png": "[encoded data removed]",
      "text/plain": [
       "<Figure size 1440x288 with 1 Axes>"
      ]
     },
     "metadata": {
      "needs_background": "light"
     },
     "output_type": "display_data"
    }
   ],
   "source": [
    "pooled_areas = [\"Visual Cortex\",\"Thalamus\",\"Hippocampal\",\"Non-Visual Cortex\", \"Midbrain\",\"Basal Gangilia\", \"Cortical Subplate\"]\n",
    "\n",
    "results = dict.fromkeys(pooled_areas)\n",
    "\n",
    "log_reg = LogisticRegression(penalty=\"l2\")\n",
    "k_fold = 16\n",
    "\n",
    "models = dict.fromkeys(pooled_areas)\n",
    "\n",
    "\n",
    "for j in range(7):\n",
    "    if avg_hz[:, barea==j].shape[-1] > 0:     \n",
    "        \n",
    "        print(pooled_areas[j])\n",
    "        models[pooled_areas[j]] = BaggingClassifier(\n",
    "            base_estimator=LogisticRegression(\n",
    "                penalty=\"l1\",  max_iter=5000, solver='liblinear'), n_estimators=10, random_state=0).fit(avg_hz[:, barea==j], response)\n",
    "        \n",
    "        accuracies = cross_val_score(BaggingClassifier(base_estimator=LogisticRegression(penalty=\"l1\",  max_iter=5000, solver='liblinear'), n_estimators=10, random_state=0),\n",
    "                                    avg_hz[:, barea==j], response)\n",
    "        \n",
    "        results[pooled_areas[j]] = accuracies\n",
    "\n",
    "\n",
    "del results['Midbrain']\n",
    "del results['Basal Gangilia']\n",
    "del results['Cortical Subplate']\n",
    "\n",
    "fig, ax = plt.subplots()\n",
    "ax.boxplot(results.values())\n",
    "ax.set_xticklabels(results.keys())\n",
    "\n"
   ]
  },
  {
   "cell_type": "code",
   "execution_count": 73,
   "id": "36d583fa-f6ea-4f85-99f7-81371af0334b",
   "metadata": {},
   "outputs": [
    {
     "name": "stdout",
     "output_type": "stream",
     "text": [
      "0.6707317073170732\n",
      "0.7073170731707317\n",
      "0.6585365853658537\n",
      "0.5121951219512195\n"
     ]
    }
   ],
   "source": [
    "\n",
    "for i, j in enumerate(pooled_areas):\n",
    "    \n",
    "    if models[j]:\n",
    "        print(models[j].score(avg_hz[:, barea==i], response))"
   ]
  },
  {
   "cell_type": "code",
   "execution_count": null,
   "id": "77ea5137-e6b7-4142-bf29-9a95d2a0a77e",
   "metadata": {},
   "outputs": [],
   "source": [
    "#Loop over all Experiments:\n",
    "pooled_areas = [\"Visual Cortex\",\"Thalamus\",\"Hippocampal\",\"Non-Visual Cortex\", \"Midbrain\",\"Basal Gangilia\", \"Cortical Subplate\"]\n",
    "\n",
    "results = []\n",
    "\n",
    "counter = 0\n",
    "\n",
    "k_fold = 8\n",
    "\n",
    "for dat in alldat:\n",
    "    \n",
    "    print('experiment ', counter)\n",
    "    counter += 1\n",
    "    \n",
    "    \n",
    "    \n",
    "    area = dict.fromkeys(pooled_areas)\n",
    "\n",
    "    for i in pooled_areas:\n",
    "        area[i] = []\n",
    "\n",
    "    \n",
    "    start_idx = ((dat['gocue'] * 1/dat['bin_size']).astype(int)).squeeze() \n",
    "    stop_idx = ((dat['response_time'] * 1/dat['bin_size']).astype(int)).squeeze() \n",
    "    \n",
    "    # only from cue on:\n",
    "    after_cue = np.zeros_like(dat['spks'][0, :, :], dtype = bool)\n",
    "    before_response = np.zeros_like(dat['spks'][0, :, :], dtype = bool)\n",
    "\n",
    "    for i, j in enumerate(start_idx):\n",
    "        after_cue[i, j:] = True\n",
    "\n",
    "    for i, j in enumerate(stop_idx):\n",
    "        before_response[i, :j] = True\n",
    "    \n",
    "    between_cue_and_response = after_cue & before_response\n",
    "    \n",
    "    avg_hz = []\n",
    "    response = []\n",
    "\n",
    "    for i,j in enumerate(between_cue_and_response):    \n",
    "        if j.sum() >= 50 and dat['response'][i] != 0 :\n",
    "            avg_hz.append(dat['spks'][:, i, j].mean(axis = 1))\n",
    "            response.append(dat['response'][i])\n",
    "        \n",
    "    avg_hz = np.asarray(avg_hz)\n",
    "\n",
    "    #Split up into different brain regions:\n",
    "    nareas = 7 # only the top 4 regions are in this particular mouse\n",
    "    NN = len(dat['brain_area']) # number of neurons\n",
    "    barea = nareas * np.ones(NN, ) \n",
    "    \n",
    "    for j in range(nareas):\n",
    "        barea[np.isin(dat['brain_area'], brain_groups[j])] = int(j) # assign a number to each region\n",
    "    \n",
    "\n",
    "    for j in range(7):\n",
    "        \n",
    "        \n",
    "        print(pooled_areas[j])\n",
    "        \n",
    "        if avg_hz[:, barea==j].shape[-1] > 0:             \n",
    "            \n",
    "            area[pooled_areas[j]] = BaggingClassifier(base_estimator=LogisticRegression(\n",
    "                                                                        penalty=\"l1\",\n",
    "                                                                        max_iter=5000,\n",
    "                                                                        solver='liblinear'),\n",
    "                \n",
    "                                    n_estimators=10,\n",
    "                                    random_state=0).fit(avg_hz[:, barea==j], response)\n",
    "            \n",
    "            print(area[pooled_areas[j]].score(avg_hz[:, barea==j], response))\n",
    "            \n",
    "            print(avg_hz[:, barea==j])\n",
    "            \n",
    "    results.append(area)\n",
    "               \n",
    "            \n",
    "            \n",
    "            \n",
    "            \n",
    "            \n",
    "            \n",
    "\n",
    "# Is using avg_hz the right way? \n",
    "\n",
    "# Use the whole time window until the response - turns out this performse worse\n",
    "\n",
    "# Using maybe only very clear trials? - high contrast trials\n",
    "\n",
    "#spikes: an array of normalized spike rates .... how to do that? "
   ]
  },
  {
   "cell_type": "code",
   "execution_count": 18,
   "id": "ab4565e2-7dad-45f4-9927-245e95049c02",
   "metadata": {},
   "outputs": [
    {
     "ename": "ValueError",
     "evalue": "Number of features of the model must match the input. Model n_features is 178 and input n_features is 141.",
     "output_type": "error",
     "traceback": [
      "\u001b[0;31m---------------------------------------------------------------------------\u001b[0m",
      "\u001b[0;31mValueError\u001b[0m                                Traceback (most recent call last)",
      "\u001b[0;32m<ipython-input-18-93c9c70e7573>\u001b[0m in \u001b[0;36m<module>\u001b[0;34m\u001b[0m\n\u001b[1;32m      7\u001b[0m     \u001b[0;32mfor\u001b[0m \u001b[0mi\u001b[0m\u001b[0;34m,\u001b[0m \u001b[0mj\u001b[0m \u001b[0;32min\u001b[0m \u001b[0menumerate\u001b[0m\u001b[0;34m(\u001b[0m\u001b[0mpooled_areas\u001b[0m\u001b[0;34m)\u001b[0m\u001b[0;34m:\u001b[0m\u001b[0;34m\u001b[0m\u001b[0;34m\u001b[0m\u001b[0m\n\u001b[1;32m      8\u001b[0m         \u001b[0;32mif\u001b[0m \u001b[0mlen\u001b[0m\u001b[0;34m(\u001b[0m\u001b[0mexperiment\u001b[0m\u001b[0;34m[\u001b[0m\u001b[0mj\u001b[0m\u001b[0;34m]\u001b[0m\u001b[0;34m)\u001b[0m \u001b[0;34m>\u001b[0m \u001b[0;36m0\u001b[0m\u001b[0;34m:\u001b[0m\u001b[0;34m\u001b[0m\u001b[0;34m\u001b[0m\u001b[0m\n\u001b[0;32m----> 9\u001b[0;31m             \u001b[0mprint\u001b[0m\u001b[0;34m(\u001b[0m\u001b[0mexperiment\u001b[0m\u001b[0;34m[\u001b[0m\u001b[0mj\u001b[0m\u001b[0;34m]\u001b[0m\u001b[0;34m.\u001b[0m\u001b[0mscore\u001b[0m\u001b[0;34m(\u001b[0m\u001b[0mavg_hz\u001b[0m\u001b[0;34m[\u001b[0m\u001b[0;34m:\u001b[0m\u001b[0;34m,\u001b[0m \u001b[0mbarea\u001b[0m\u001b[0;34m==\u001b[0m\u001b[0mi\u001b[0m\u001b[0;34m]\u001b[0m\u001b[0;34m,\u001b[0m \u001b[0mresponse\u001b[0m\u001b[0;34m)\u001b[0m\u001b[0;34m)\u001b[0m\u001b[0;34m\u001b[0m\u001b[0;34m\u001b[0m\u001b[0m\n\u001b[0m\u001b[1;32m     10\u001b[0m \u001b[0;34m\u001b[0m\u001b[0m\n",
      "\u001b[0;32m~/.local/lib/python3.9/site-packages/sklearn/base.py\u001b[0m in \u001b[0;36mscore\u001b[0;34m(self, X, y, sample_weight)\u001b[0m\n\u001b[1;32m    498\u001b[0m         \"\"\"\n\u001b[1;32m    499\u001b[0m         \u001b[0;32mfrom\u001b[0m \u001b[0;34m.\u001b[0m\u001b[0mmetrics\u001b[0m \u001b[0;32mimport\u001b[0m \u001b[0maccuracy_score\u001b[0m\u001b[0;34m\u001b[0m\u001b[0;34m\u001b[0m\u001b[0m\n\u001b[0;32m--> 500\u001b[0;31m         \u001b[0;32mreturn\u001b[0m \u001b[0maccuracy_score\u001b[0m\u001b[0;34m(\u001b[0m\u001b[0my\u001b[0m\u001b[0;34m,\u001b[0m \u001b[0mself\u001b[0m\u001b[0;34m.\u001b[0m\u001b[0mpredict\u001b[0m\u001b[0;34m(\u001b[0m\u001b[0mX\u001b[0m\u001b[0;34m)\u001b[0m\u001b[0;34m,\u001b[0m \u001b[0msample_weight\u001b[0m\u001b[0;34m=\u001b[0m\u001b[0msample_weight\u001b[0m\u001b[0;34m)\u001b[0m\u001b[0;34m\u001b[0m\u001b[0;34m\u001b[0m\u001b[0m\n\u001b[0m\u001b[1;32m    501\u001b[0m \u001b[0;34m\u001b[0m\u001b[0m\n\u001b[1;32m    502\u001b[0m     \u001b[0;32mdef\u001b[0m \u001b[0m_more_tags\u001b[0m\u001b[0;34m(\u001b[0m\u001b[0mself\u001b[0m\u001b[0;34m)\u001b[0m\u001b[0;34m:\u001b[0m\u001b[0;34m\u001b[0m\u001b[0;34m\u001b[0m\u001b[0m\n",
      "\u001b[0;32m~/.local/lib/python3.9/site-packages/sklearn/ensemble/_bagging.py\u001b[0m in \u001b[0;36mpredict\u001b[0;34m(self, X)\u001b[0m\n\u001b[1;32m    675\u001b[0m             \u001b[0mThe\u001b[0m \u001b[0mpredicted\u001b[0m \u001b[0mclasses\u001b[0m\u001b[0;34m.\u001b[0m\u001b[0;34m\u001b[0m\u001b[0;34m\u001b[0m\u001b[0m\n\u001b[1;32m    676\u001b[0m         \"\"\"\n\u001b[0;32m--> 677\u001b[0;31m         \u001b[0mpredicted_probabilitiy\u001b[0m \u001b[0;34m=\u001b[0m \u001b[0mself\u001b[0m\u001b[0;34m.\u001b[0m\u001b[0mpredict_proba\u001b[0m\u001b[0;34m(\u001b[0m\u001b[0mX\u001b[0m\u001b[0;34m)\u001b[0m\u001b[0;34m\u001b[0m\u001b[0;34m\u001b[0m\u001b[0m\n\u001b[0m\u001b[1;32m    678\u001b[0m         return self.classes_.take((np.argmax(predicted_probabilitiy, axis=1)),\n\u001b[1;32m    679\u001b[0m                                   axis=0)\n",
      "\u001b[0;32m~/.local/lib/python3.9/site-packages/sklearn/ensemble/_bagging.py\u001b[0m in \u001b[0;36mpredict_proba\u001b[0;34m(self, X)\u001b[0m\n\u001b[1;32m    709\u001b[0m \u001b[0;34m\u001b[0m\u001b[0m\n\u001b[1;32m    710\u001b[0m         \u001b[0;32mif\u001b[0m \u001b[0mself\u001b[0m\u001b[0;34m.\u001b[0m\u001b[0mn_features_\u001b[0m \u001b[0;34m!=\u001b[0m \u001b[0mX\u001b[0m\u001b[0;34m.\u001b[0m\u001b[0mshape\u001b[0m\u001b[0;34m[\u001b[0m\u001b[0;36m1\u001b[0m\u001b[0;34m]\u001b[0m\u001b[0;34m:\u001b[0m\u001b[0;34m\u001b[0m\u001b[0;34m\u001b[0m\u001b[0m\n\u001b[0;32m--> 711\u001b[0;31m             raise ValueError(\"Number of features of the model must \"\n\u001b[0m\u001b[1;32m    712\u001b[0m                              \u001b[0;34m\"match the input. Model n_features is {0} and \"\u001b[0m\u001b[0;34m\u001b[0m\u001b[0;34m\u001b[0m\u001b[0m\n\u001b[1;32m    713\u001b[0m                              \u001b[0;34m\"input n_features is {1}.\"\u001b[0m\u001b[0;34m\u001b[0m\u001b[0;34m\u001b[0m\u001b[0m\n",
      "\u001b[0;31mValueError\u001b[0m: Number of features of the model must match the input. Model n_features is 178 and input n_features is 141."
     ]
    }
   ],
   "source": [
    "# for experiment in results:\n",
    "#     for i, j in enumerate(pooled_areas):\n",
    "#         if experiment[j]:\n",
    "#             print(experiment[j].score(avg_hz[:, barea==i], response))\n",
    "\n",
    "for experiment in results:\n",
    "    for i, j in enumerate(pooled_areas):\n",
    "        if len(experiment[j]) > 0:\n",
    "            print(experiment[j].score(avg_hz[:, barea==i], response))\n",
    "            \n"
   ]
  },
  {
   "cell_type": "code",
   "execution_count": 36,
   "id": "7d412450-4d62-4d27-999b-201237d7f9e6",
   "metadata": {},
   "outputs": [
    {
     "data": {
      "text/plain": [
       "Text(0.5, 0, 'experiment')"
      ]
     },
     "execution_count": 36,
     "metadata": {},
     "output_type": "execute_result"
    },
    {
     "data": {
      "image/png": "[encoded data removed]",
      "text/plain": [
       "<Figure size 1440x288 with 1 Axes>"
      ]
     },
     "metadata": {
      "needs_background": "light"
     },
     "output_type": "display_data"
    }
   ],
   "source": [
    "plt.scatter(range(len(results['Visual Cortex'])) ,results['Visual Cortex'])\n",
    "plt.ylim(0, 1)\n",
    "plt.title('Visual Cortex')\n",
    "plt.ylabel('acc')\n",
    "plt.xlabel('experiment')"
   ]
  },
  {
   "cell_type": "code",
   "execution_count": 37,
   "id": "2c190f55-8147-4f4f-9f27-b8e736d67582",
   "metadata": {},
   "outputs": [
    {
     "data": {
      "text/plain": [
       "Text(0.5, 0, 'experiment')"
      ]
     },
     "execution_count": 37,
     "metadata": {},
     "output_type": "execute_result"
    },
    {
     "data": {
      "image/png": "[encoded data removed]",
      "text/plain": [
       "<Figure size 1440x288 with 1 Axes>"
      ]
     },
     "metadata": {
      "needs_background": "light"
     },
     "output_type": "display_data"
    }
   ],
   "source": [
    "plt.scatter(range(len(results['Non-Visual Cortex'])) ,results['Non-Visual Cortex'])\n",
    "plt.ylim(0, 1)\n",
    "plt.title('Non-Visual Cortex')\n",
    "plt.ylabel('acc')\n",
    "plt.xlabel('experiment')"
   ]
  },
  {
   "cell_type": "code",
   "execution_count": 38,
   "id": "1012fd08-211b-4127-8b68-66b9ccdedcc6",
   "metadata": {},
   "outputs": [
    {
     "data": {
      "text/plain": [
       "[Text(1, 0, 'Visual Cortex'),\n",
       " Text(2, 0, 'Thalamus'),\n",
       " Text(3, 0, 'Hippocampal'),\n",
       " Text(4, 0, 'Non-Visual Cortex'),\n",
       " Text(5, 0, 'Midbrain'),\n",
       " Text(6, 0, 'Basal Gangilia'),\n",
       " Text(7, 0, 'Cortical Subplate')]"
      ]
     },
     "execution_count": 38,
     "metadata": {},
     "output_type": "execute_result"
    },
    {
     "data": {
      "image/png": "[encoded data removed]",
      "text/plain": [
       "<Figure size 1440x288 with 1 Axes>"
      ]
     },
     "metadata": {
      "needs_background": "light"
     },
     "output_type": "display_data"
    }
   ],
   "source": [
    "fig, ax = plt.subplots()\n",
    "ax.boxplot(results.values())\n",
    "ax.set_xticklabels(results.keys())"
   ]
  },
  {
   "cell_type": "code",
   "execution_count": 74,
   "id": "6b5bc5ff-a5b3-40e7-b584-7d47600b048e",
   "metadata": {},
   "outputs": [
    {
     "data": {
      "text/plain": [
       "dict_keys(['spks', 'wheel', 'pupil', 'response', 'response_time', 'bin_size', 'stim_onset', 'contrast_right', 'contrast_left', 'brain_area', 'feedback_time', 'feedback_type', 'gocue', 'mouse_name', 'date_exp', 'trough_to_peak', 'active_trials', 'contrast_left_passive', 'contrast_right_passive', 'spks_passive', 'pupil_passive', 'wheel_passive', 'prev_reward', 'ccf', 'ccf_axes', 'cellid_orig', 'reaction_time', 'face', 'face_passive', 'licks', 'licks_passive'])"
      ]
     },
     "execution_count": 74,
     "metadata": {},
     "output_type": "execute_result"
    }
   ],
   "source": [
    "dat.keys()"
   ]
  },
  {
   "cell_type": "code",
   "execution_count": null,
   "id": "1587fa4b-5a22-4552-96f7-d9300529700b",
   "metadata": {},
   "outputs": [],
   "source": [
    "plot_weights(model)"
   ]
  }
 ],
 "metadata": {
  "kernelspec": {
   "display_name": "Python 3",
   "language": "python",
   "name": "python3"
  },
  "language_info": {
   "codemirror_mode": {
    "name": "ipython",
    "version": 3
   },
   "file_extension": ".py",
   "mimetype": "text/x-python",
   "name": "python",
   "nbconvert_exporter": "python",
   "pygments_lexer": "ipython3",
   "version": "3.9.5"
  }
 },
 "nbformat": 4,
 "nbformat_minor": 5
}
